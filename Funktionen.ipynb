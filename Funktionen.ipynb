{
 "cells": [
  {
   "cell_type": "markdown",
   "id": "2e95fdaf",
   "metadata": {},
   "source": [
    "Before you turn this problem in, make sure everything runs as expected. First, **restart the kernel** (in the menubar, select Kernel$\\rightarrow$Restart) and then **run all cells** (in the menubar, select Cell$\\rightarrow$Run All).\n",
    "\n",
    "Make sure you fill in any place that says `YOUR CODE HERE` or \"YOUR ANSWER HERE\", as well as your name and collaborators below:"
   ]
  },
  {
   "cell_type": "code",
   "execution_count": null,
   "id": "b06f759b",
   "metadata": {},
   "outputs": [],
   "source": [
    "NAME = \"\"\n",
    "COLLABORATORS = \"\""
   ]
  },
  {
   "cell_type": "markdown",
   "id": "945f70af",
   "metadata": {},
   "source": [
    "---"
   ]
  },
  {
   "cell_type": "markdown",
   "id": "aa666f7b-363e-412c-b779-36b6a26edd06",
   "metadata": {
    "deletable": false,
    "editable": false,
    "nbgrader": {
     "cell_type": "markdown",
     "checksum": "a74cb6e8e46eb590359baac1ddc110a6",
     "grade": false,
     "grade_id": "cell-aeff0cb329403fb9",
     "locked": true,
     "schema_version": 3,
     "solution": false,
     "task": false
    }
   },
   "source": [
    "# Funktionen\n",
    "\n",
    "Im letzten Notebook (Statements und Zuweisungen) haben wir uns mit den Grundkonzepten von Variablen und Statements befasst. Nun wollen wir uns Funktionen zuwenden. \n",
    "\n",
    "## Statements mit Parametern\n",
    "\n",
    "Betrachet das folgende Statement:"
   ]
  },
  {
   "cell_type": "code",
   "execution_count": null,
   "id": "b5cc3491-00c5-4d23-a414-9178928fb717",
   "metadata": {
    "deletable": false,
    "editable": false,
    "nbgrader": {
     "cell_type": "code",
     "checksum": "76ed03f26b063700ee1222875395c582",
     "grade": false,
     "grade_id": "cell-43b025c35323316d",
     "locked": true,
     "schema_version": 3,
     "solution": false,
     "task": false
    }
   },
   "outputs": [],
   "source": [
    "\"Hallo \" + name"
   ]
  },
  {
   "cell_type": "markdown",
   "id": "aac47e25-f7e2-4968-8b87-d4cef9a1a926",
   "metadata": {
    "deletable": false,
    "editable": false,
    "nbgrader": {
     "cell_type": "markdown",
     "checksum": "8d4a91e49861a12244f8f4816d73adec",
     "grade": false,
     "grade_id": "cell-2f15b7d57cd43839",
     "locked": true,
     "schema_version": 3,
     "solution": false,
     "task": false
    }
   },
   "source": [
    "in diesem Statement wird die Variable `name` verwendet, ist diese nicht definiert kommt es zu einem Fehler. Wir nennen diese Variable einen **Parameter** des Statements, d.h. damit das Statement korrekt evaluiert werden kann muss die Variable `name` definiert sein."
   ]
  },
  {
   "cell_type": "code",
   "execution_count": null,
   "id": "adbea066-c681-4ee7-bd67-de907e9c4483",
   "metadata": {},
   "outputs": [],
   "source": [
    "name = \"YOUR NAME HERE\"\n",
    "\"Hallo \" + name"
   ]
  },
  {
   "cell_type": "markdown",
   "id": "51af71a7-d93b-47eb-a3a0-843c78011579",
   "metadata": {
    "deletable": false,
    "editable": false,
    "nbgrader": {
     "cell_type": "markdown",
     "checksum": "ee412dc9bd95ad49481189b3b2499fdb",
     "grade": false,
     "grade_id": "cell-25f2ff91dd88465c",
     "locked": true,
     "schema_version": 3,
     "solution": false,
     "task": false
    }
   },
   "source": [
    "Um sicher zustellen, dass der Parameter `name` immer definiert ist wenn wir das Statement evaluieren, weisen wir dem Statement einen eigenen Namen zu:"
   ]
  },
  {
   "cell_type": "code",
   "execution_count": null,
   "id": "a20f134e-b7cd-4bb7-83a0-9fc85564cfbc",
   "metadata": {
    "deletable": false,
    "editable": false,
    "nbgrader": {
     "cell_type": "code",
     "checksum": "6b8fcef5cd983af43a147668bb3918bf",
     "grade": false,
     "grade_id": "cell-b5c667f3035b728c",
     "locked": true,
     "schema_version": 3,
     "solution": false,
     "task": false
    }
   },
   "outputs": [],
   "source": [
    "def hallo(name):\n",
    "    return \"Hallo \" + name"
   ]
  },
  {
   "cell_type": "markdown",
   "id": "f65ebc5f-ccfe-447f-8fcb-f53e5161f051",
   "metadata": {
    "deletable": false,
    "editable": false,
    "nbgrader": {
     "cell_type": "markdown",
     "checksum": "ba5c37ea480499e04bfd08dee42f711d",
     "grade": false,
     "grade_id": "cell-faf8b91ce4455e43",
     "locked": true,
     "schema_version": 3,
     "solution": false,
     "task": false
    }
   },
   "source": [
    "**Bemerke:** Beim Evaluieren dieser Zelle gibt es keine Ausgabe\n",
    "\n",
    "Wir nennen diese Art der Zuweisung Funktions**def**inition. \n",
    "\n",
    "Nachdem evaluieren dieser Zelle können wir die eben definierte Funktion folgendermassen aufrufen und evaluieren:"
   ]
  },
  {
   "cell_type": "markdown",
   "id": "8f3be979-2e35-415c-aeed-ffb2aea3f600",
   "metadata": {
    "deletable": false,
    "editable": false,
    "nbgrader": {
     "cell_type": "markdown",
     "checksum": "c903da4d304c9202746ef0d541effd04",
     "grade": false,
     "grade_id": "cell-22c4dde5d8ad95a9",
     "locked": true,
     "schema_version": 3,
     "solution": false,
     "task": false
    }
   },
   "source": [
    "Wir betrachten jetzt die Funktionsdefinition im Detail. In der ersten Zeile \n",
    "\n",
    "```\n",
    "def hallo(name)\n",
    "```\n",
    "\n",
    "weisen wir unserem vorherigen Statement `\"Hallo \" + name` den Namen `hallo` mit dem Parameter `name` zu. In der zweiten Zeile\n",
    "\n",
    "```\n",
    "    return \"Hallo \" + name\n",
    "```\n",
    "\n",
    "geben wir mit `return` unser ursprüngliches Statement zurück. Bei ist **wichtig** zu verstehen, dass wir nur in den **eingerückten Zeilen** auf den Parameter zugreifen können. \n",
    "\n",
    "Diese letzte Bemerkung ist **extrem** wichtig und führt am Anfang manchmal zu verwirrung. Deshalb wollen wir mit unserem nächsten Beispiel darauf eingehen:\n",
    "\n",
    "### Beispiel:\n",
    "\n",
    "Als erstes definieren wir eine neue Funktion:"
   ]
  },
  {
   "cell_type": "code",
   "execution_count": null,
   "id": "c270ec22-e741-499a-9b42-eedcee20493b",
   "metadata": {
    "deletable": false,
    "editable": false,
    "nbgrader": {
     "cell_type": "code",
     "checksum": "fbc11ee53c561bf9266d0a55e482bc3b",
     "grade": false,
     "grade_id": "cell-fd3a62fde1176bfa",
     "locked": true,
     "schema_version": 3,
     "solution": false,
     "task": false
    }
   },
   "outputs": [],
   "source": [
    "def vier_plus(summand):\n",
    "    return 4 + summand"
   ]
  },
  {
   "cell_type": "markdown",
   "id": "749bad71-7f41-4e15-9be5-5ed159b6cf37",
   "metadata": {
    "deletable": false,
    "editable": false,
    "nbgrader": {
     "cell_type": "markdown",
     "checksum": "ac5490ce015334bea0f47ddad0301295",
     "grade": false,
     "grade_id": "cell-52855ea5309f853e",
     "locked": true,
     "schema_version": 3,
     "solution": false,
     "task": false
    }
   },
   "source": [
    "nun rufen wir die Funktion mit einer beliebigen Zahl auf"
   ]
  },
  {
   "cell_type": "code",
   "execution_count": null,
   "id": "e8fbe569-2594-4130-8869-072e56c30454",
   "metadata": {},
   "outputs": [],
   "source": [
    "zahl = 5\n",
    "vier_plus(zahl)"
   ]
  },
  {
   "cell_type": "markdown",
   "id": "a633e772-7767-402d-946a-5fb380916fea",
   "metadata": {
    "deletable": false,
    "editable": false,
    "nbgrader": {
     "cell_type": "markdown",
     "checksum": "d856e8fe063d8bc12b9aa541e92c48bf",
     "grade": false,
     "grade_id": "cell-f1d32e9d76bd2d6d",
     "locked": true,
     "schema_version": 3,
     "solution": false,
     "task": false
    }
   },
   "source": [
    "aber wir können nicht auf den Parameter zugreifen:"
   ]
  },
  {
   "cell_type": "code",
   "execution_count": null,
   "id": "fe768d3e-7624-43c7-bebf-dc4b5a61dce1",
   "metadata": {
    "deletable": false,
    "editable": false,
    "nbgrader": {
     "cell_type": "code",
     "checksum": "b12a21250f6457c13428351de9b65dfc",
     "grade": false,
     "grade_id": "cell-38723ad8cf795dd2",
     "locked": true,
     "schema_version": 3,
     "solution": false,
     "task": false
    },
    "tags": []
   },
   "outputs": [],
   "source": [
    "summand"
   ]
  },
  {
   "cell_type": "markdown",
   "id": "fb2ebcb8",
   "metadata": {
    "deletable": false,
    "editable": false,
    "nbgrader": {
     "cell_type": "markdown",
     "checksum": "3a4c1e0416670250ed5b054ff9885b36",
     "grade": false,
     "grade_id": "cell-f6661e6b0fdb6430",
     "locked": true,
     "schema_version": 3,
     "solution": false,
     "task": false
    }
   },
   "source": [
    "### Aufgabe:\n",
    "\n",
    "Kopiere den folgenden Code in die nächste Zelle (YOUR CODE HERE):\n",
    "\n",
    "```\n",
    "zahl = 20\n",
    "def zehn_plus(summand):\n",
    "    return 10 + zahl\n",
    "zehn_plus(40)\n",
    "```\n",
    "\n",
    "Evaluiere die Zelle. Was stellst du fest? Versuche die Funktion zu korrigieren und schreibe deine Beobachtungen in die übernächste Zelle (YOUR ANSWER HERE)"
   ]
  },
  {
   "cell_type": "code",
   "execution_count": null,
   "id": "ec845359",
   "metadata": {
    "deletable": false,
    "nbgrader": {
     "cell_type": "code",
     "checksum": "778deed849ee24494462c8402e849acb",
     "grade": true,
     "grade_id": "cell-a837a35869e9238d",
     "locked": false,
     "points": 0,
     "schema_version": 3,
     "solution": true,
     "task": false
    }
   },
   "outputs": [],
   "source": [
    "# YOUR CODE HERE\n",
    "raise NotImplementedError()"
   ]
  },
  {
   "cell_type": "markdown",
   "id": "bad34195",
   "metadata": {
    "deletable": false,
    "nbgrader": {
     "cell_type": "markdown",
     "checksum": "5e4ef743b2ab1455b96a48019d0940d1",
     "grade": true,
     "grade_id": "cell-e38973d97e17de40",
     "locked": false,
     "points": 0,
     "schema_version": 3,
     "solution": true,
     "task": false
    }
   },
   "source": [
    "YOUR ANSWER HERE"
   ]
  },
  {
   "cell_type": "markdown",
   "id": "291f4a3c-268a-49d5-b48d-6a9b58aafa2e",
   "metadata": {
    "deletable": false,
    "editable": false,
    "nbgrader": {
     "cell_type": "markdown",
     "checksum": "5677b6073ed2e4248d090ba27a782ceb",
     "grade": false,
     "grade_id": "cell-75c50e3413169215",
     "locked": true,
     "schema_version": 3,
     "solution": false,
     "task": false
    }
   },
   "source": [
    "### Aufgabe:\n",
    "\n",
    "Ziel ist es eine eigene Funktion zu definieren, welche eine beliebige Zahl mit sieben multipliziert. Gehe folgendermassen vor:\n",
    "\n",
    "1. Füge eine neue Zelle hinzu und weise einer Variable `zahl` eine beliebige Zahl zu\n",
    "2. Erarbeite ein Statement um `zahl` mit sieben zu multiplizieren.\n",
    "3. In einer neuen Zelle definierst du eine Funktion welche als Parameter `zahl` entgegen nimmt und dein Statement zurückgibt"
   ]
  }
 ],
 "metadata": {
  "kernelspec": {
   "display_name": "Python 3 (ipykernel)",
   "language": "python",
   "name": "python3"
  },
  "language_info": {
   "codemirror_mode": {
    "name": "ipython",
    "version": 3
   },
   "file_extension": ".py",
   "mimetype": "text/x-python",
   "name": "python",
   "nbconvert_exporter": "python",
   "pygments_lexer": "ipython3",
   "version": "3.8.9"
  }
 },
 "nbformat": 4,
 "nbformat_minor": 5
}
